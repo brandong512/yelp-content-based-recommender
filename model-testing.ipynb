{
 "cells": [
  {
   "cell_type": "markdown",
   "id": "933be05f",
   "metadata": {},
   "source": [
    "**Author:** Brandon Golshirazian\n",
    "\n",
    "**Date:** 12/14/2021\n",
    "\n",
    "**Description:** Demo of using model within jupyter notebook environment. Used for testing purposes to makes sure packages and modules work properly.\n",
    "\n",
    "---"
   ]
  },
  {
   "cell_type": "code",
   "execution_count": 1,
   "metadata": {},
   "outputs": [],
   "source": [
    "import pandas as pd\n",
    "import numpy as np\n",
    "import nbformat\n",
    "\n",
    "%load_ext autoreload\n",
    "%autoreload 2\n",
    "from src.content_based_recommender import ContentBasedRecommender"
   ]
  },
  {
   "cell_type": "code",
   "execution_count": 2,
   "id": "09e165f1",
   "metadata": {},
   "outputs": [],
   "source": [
    "yelp_business_data = pd.read_parquet(\"./data/pre-processed/yelp_business_data.parquet\")"
   ]
  },
  {
   "cell_type": "code",
   "execution_count": 3,
   "id": "89d1f8e3",
   "metadata": {},
   "outputs": [],
   "source": [
    "yelp_user_data = pd.read_parquet(\"./data/pre-processed/yelp_user_data.parquet\")"
   ]
  },
  {
   "cell_type": "code",
   "execution_count": 4,
   "id": "8fad0361",
   "metadata": {
    "scrolled": true
   },
   "outputs": [],
   "source": [
    "reviews_part1 = pd.read_parquet(\"./data/pre-processed/yelp_academic_dataset_reviews_part1.parquet\")\n",
    "reviews_part2 = pd.read_parquet(\"./data/pre-processed/yelp_academic_dataset_reviews_part2.parquet\")"
   ]
  },
  {
   "cell_type": "code",
   "execution_count": 5,
   "metadata": {},
   "outputs": [],
   "source": [
    "yelp_all_reviews = pd.concat([reviews_part1, reviews_part2])"
   ]
  },
  {
   "cell_type": "code",
   "execution_count": 6,
   "metadata": {},
   "outputs": [
    {
     "name": "stderr",
     "output_type": "stream",
     "text": [
      "/var/folders/v9/f1_sk4lj7z7g3jjypdswdrgm0000gn/T/ipykernel_38098/4160513705.py:2: SettingWithCopyWarning: \n",
      "A value is trying to be set on a copy of a slice from a DataFrame.\n",
      "Try using .loc[row_indexer,col_indexer] = value instead\n",
      "\n",
      "See the caveats in the documentation: https://pandas.pydata.org/pandas-docs/stable/user_guide/indexing.html#returning-a-view-versus-a-copy\n",
      "  yelp_business_data_no_na[\"categories\"] = yelp_business_data_no_na[\"categories\"]\\\n"
     ]
    }
   ],
   "source": [
    "yelp_business_data_no_na = yelp_business_data[~yelp_business_data[\"categories\"].isnull()]\n",
    "yelp_business_data_no_na[\"categories\"] = yelp_business_data_no_na[\"categories\"]\\\n",
    "    .apply(lambda x: x.split(\",\"))\\\n",
    "    .apply(lambda x: {s.strip(\" \") for s in x})\n",
    "yelp_business_data_no_na = yelp_business_data_no_na.reset_index(drop=True)"
   ]
  },
  {
   "cell_type": "code",
   "execution_count": null,
   "metadata": {},
   "outputs": [],
   "source": [
    "recommender = ContentBasedRecommender(\n",
    "    yelp_business_data_no_na,\n",
    "    yelp_user_data,\n",
    "    yelp_all_reviews\n",
    ")\n",
    "\n",
    "recommender.fit(\"O3nhfuz6W4wlmIQgM_Oo2g\")"
   ]
  },
  {
   "cell_type": "code",
   "execution_count": null,
   "metadata": {},
   "outputs": [],
   "source": [
    "recommender.predict()"
   ]
  }
 ],
 "metadata": {
  "interpreter": {
   "hash": "9d450e5cc079f25cbf8910589edeef564c7e1e08e16fb5784eccac054dcda6b2"
  },
  "kernelspec": {
   "display_name": "Python (yelp-recommend)",
   "language": "python",
   "name": "yelp-recommend-test"
  },
  "language_info": {
   "codemirror_mode": {
    "name": "ipython",
    "version": 3
   },
   "file_extension": ".py",
   "mimetype": "text/x-python",
   "name": "python",
   "nbconvert_exporter": "python",
   "pygments_lexer": "ipython3",
   "version": "3.9.7"
  }
 },
 "nbformat": 4,
 "nbformat_minor": 2
}
